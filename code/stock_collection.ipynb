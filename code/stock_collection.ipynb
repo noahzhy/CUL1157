{
 "metadata": {
  "language_info": {
   "codemirror_mode": {
    "name": "ipython",
    "version": 3
   },
   "file_extension": ".py",
   "mimetype": "text/x-python",
   "name": "python",
   "nbconvert_exporter": "python",
   "pygments_lexer": "ipython3",
   "version": "3.8.0-final"
  },
  "orig_nbformat": 2,
  "kernelspec": {
   "name": "python37764bit4b8c9347d4274ebcb4cd7470922341df",
   "display_name": "Python 3.7.7 64-bit"
  }
 },
 "nbformat": 4,
 "nbformat_minor": 2,
 "cells": [
  {
   "cell_type": "code",
   "execution_count": 4,
   "metadata": {},
   "outputs": [
    {
     "output_type": "stream",
     "name": "stdout",
     "text": [
      "[*********************100%***********************]  1 of 1 completed\n",
      "[*********************100%***********************]  1 of 1 completed\n",
      "[*********************100%***********************]  1 of 1 completed\n",
      "[*********************100%***********************]  1 of 1 completed\n",
      "[*********************100%***********************]  1 of 1 completed\n",
      "[*********************100%***********************]  1 of 1 completed\n",
      "[*********************100%***********************]  1 of 1 completed\n",
      "[*********************100%***********************]  1 of 1 completed\n",
      "[*********************100%***********************]  1 of 1 completed\n",
      "[*********************100%***********************]  1 of 1 completed\n"
     ]
    }
   ],
   "source": [
    "import yfinance as yf\n",
    "from datetime import datetime, timedelta, timezone\n",
    "from pandas_datareader import data as pdr\n",
    "\n",
    "yf.pdr_override()\n",
    "# recently X days\n",
    "start_date = (datetime.now(tz=timezone.utc) - timedelta(186)).strftime(\"%Y-%m-%d\")\n",
    "end_date = datetime.now().strftime(\"%Y-%m-%d\")\n",
    "# download dataframe\n",
    "\n",
    "def get_stock_price(query_words):\n",
    "    data = pdr.get_data_yahoo(query_words, start=start_date, end=end_date)\n",
    "    data.to_csv(\"stock/{}_{}_{}.csv\".format(query_words.upper(), start_date.replace(\"-\",\"\"), end_date.replace(\"-\",\"\")))\n",
    "\n",
    "\n",
    "candidates = ['MSFT', 'AMZN', 'GOOGL', 'AAPL', 'FB', 'ZM', 'VMW', 'NVDA', 'AMD', 'TSLA']\n",
    "for c in candidates:\n",
    "    get_stock_price(c)\n",
    "\n"
   ]
  },
  {
   "cell_type": "code",
   "execution_count": null,
   "metadata": {},
   "outputs": [],
   "source": []
  }
 ]
}