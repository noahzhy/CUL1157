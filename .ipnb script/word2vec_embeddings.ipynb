{
 "metadata": {
  "language_info": {
   "codemirror_mode": {
    "name": "ipython",
    "version": 3
   },
   "file_extension": ".py",
   "mimetype": "text/x-python",
   "name": "python",
   "nbconvert_exporter": "python",
   "pygments_lexer": "ipython3",
   "version": "3.8.5-final"
  },
  "orig_nbformat": 2,
  "kernelspec": {
   "name": "python3",
   "display_name": "Python 3.8.5 64-bit",
   "metadata": {
    "interpreter": {
     "hash": "95ab7303ed2746327945aa376054eddca8c4eca362915ff95db932dbe7e7ee41"
    }
   }
  }
 },
 "nbformat": 4,
 "nbformat_minor": 2,
 "cells": [
  {
   "cell_type": "code",
   "execution_count": null,
   "metadata": {},
   "outputs": [],
   "source": [
    "!pip3 install -U gensim"
   ]
  },
  {
   "cell_type": "code",
   "execution_count": null,
   "metadata": {},
   "outputs": [],
   "source": [
    "import os\n",
    "import sys\n",
    "# import logging\n",
    "import gensim\n",
    "import pandas as pd\n",
    "from gensim.models import Doc2Vec\n",
    "# curPath = os.path.abspath(os.path.dirname(__file__))\n",
    "# rootPath = os.path.split(curPath)[0]\n",
    "# sys.path.append(rootPath)\n",
    "# from utilties import ko_title2words"
   ]
  },
  {
   "cell_type": "code",
   "execution_count": null,
   "metadata": {},
   "outputs": [],
   "source": [
    "# import gensim.downloader\n",
    "# # load pre-trained model\n",
    "# model = gensim.downloader.load('word2vec-google-news-300')"
   ]
  },
  {
   "cell_type": "code",
   "execution_count": null,
   "metadata": {},
   "outputs": [],
   "source": [
    "main_data = pd.read_csv('news/TSLA_20201112.csv')\n",
    "main_data.head()"
   ]
  },
  {
   "cell_type": "code",
   "execution_count": null,
   "metadata": {},
   "outputs": [],
   "source": [
    "article_content = main_data['content']\n",
    "article_content"
   ]
  },
  {
   "cell_type": "code",
   "execution_count": null,
   "metadata": {},
   "outputs": [],
   "source": [
    "title_content = '. '.join([main_data['title'][0], main_data['content'][0]])\n",
    "print(title_content)"
   ]
  },
  {
   "cell_type": "code",
   "execution_count": null,
   "metadata": {},
   "outputs": [],
   "source": [
    "import nltk\n",
    "# nltk.download('stopwords')\n",
    "\n",
    "from nltk import word_tokenize\n",
    "from nltk.corpus import stopwords\n",
    "from gensim import models\n",
    "from gensim.models.doc2vec import TaggedDocument\n",
    "# Function for normalizing paragraphs.\n",
    "def normalize(string):\n",
    "    lst = word_tokenize(string)\n",
    "    lst = [word.lower() for word in lst if word.isalpha()]\n",
    "    lst = [w for w in lst if not w in stopwords.words('english')]\n",
    "    return lst\n",
    "# Aggregate questions under each topic tag as a paragraph. \n",
    "# Normalize the paragraph \n",
    "# Feed the normalized paragraph along with the topic tag into Gensim's Tagged Document function. \n",
    "# Append the return value to docs.\n",
    "title_content = normalize(title_content)\n",
    "docs = list()\n",
    "for i, doc in enumerate(title_content):\n",
    "    # print(doc)\n",
    "    docs.append(TaggedDocument(doc, [i]))\n",
    "\n",
    "docs\n"
   ]
  },
  {
   "cell_type": "code",
   "execution_count": null,
   "metadata": {},
   "outputs": [],
   "source": [
    "\n",
    "import gensim\n",
    "model = gensim.models.Doc2Vec(vector_size=128, window=3, min_count=0, workers=4, epochs=40)\n",
    "model.build_vocab(docs)\n",
    "model.train(docs, total_examples=model.corpus_count, epochs=model.iter)\n",
    "model.save(\"d2v.model\")\n",
    "print(models)"
   ]
  },
  {
   "cell_type": "code",
   "execution_count": null,
   "metadata": {},
   "outputs": [],
   "source": [
    "import os\n",
    "import re\n",
    "import numpy\n",
    "import pickle\n",
    "import gensim\n",
    "import numpy as np\n",
    "import pandas as pd\n",
    "from sklearn.cluster import KMeans\n",
    "from sklearn.decomposition import PCA\n",
    "from gensim.models import Doc2Vec"
   ]
  },
  {
   "cell_type": "code",
   "execution_count": null,
   "metadata": {},
   "outputs": [],
   "source": [
    "from gensim.test.utils import common_texts\n",
    "from gensim.models.doc2vec import Doc2Vec, TaggedDocument\n",
    "\n",
    "title_content = '. '.join([main_data['title'][0], main_data['content'][0]])\n",
    "print(title_content)\n",
    "\n",
    "documents = [TaggedDocument(doc, [i]) for i, doc in enumerate([title_content])]\n",
    "print(documents)\n",
    "model = Doc2Vec(documents, vector_size=128, window=4, min_count=0, workers=4)\n",
    "# print(model.docvecs)\n",
    "inferred = model.infer_vector([\"system\", \"oopo\"])\n",
    "sims = model.docvecs.most_similar([inferred])\n",
    "print(sims)"
   ]
  },
  {
   "cell_type": "code",
   "execution_count": null,
   "metadata": {},
   "outputs": [],
   "source": [
    "# 加载数据\n",
    "documents = []\n",
    "# 使用count当做每个句子的“标签”，标签和每个句子是一一对应的\n",
    "count = 0\n",
    "with open('../data/titles/ko.video.corpus','r') as f:\n",
    "    for line in f:\n",
    "        title = unicode(line, 'utf-8')\n",
    "        # 切词，返回的结果是列表类型\n",
    "        words = ko_title2words(title)\n",
    "        # 这里documents里的每个元素是二元组，具体可以查看函数文档\n",
    "        documents.append(gensim.models.doc2vec.TaggedDocument(words, [str(count)]))\n",
    "        # count += 1\n",
    "        # if count % 10000 == 0:\n",
    "        #     logging.info('{} has loaded...'.format(count))\n",
    "\n",
    "if not os.path.exists('models'):\n",
    "    os.makedirs('models')\n",
    "\n",
    "model = Doc2Vec(documents, dm=1, size=128, window=8, min_count=5)\n",
    "model.save('models/eng_d2v.model')"
   ]
  }
 ]
}