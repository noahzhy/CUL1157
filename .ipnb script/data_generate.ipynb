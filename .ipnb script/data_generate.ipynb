{
  "nbformat": 4,
  "nbformat_minor": 0,
  "metadata": {
    "colab": {
      "name": "data_generate.ipynb",
      "provenance": [],
      "collapsed_sections": [],
      "toc_visible": true
    },
    "kernelspec": {
      "name": "python3",
      "display_name": "Python 3.8.5 64-bit",
      "metadata": {
        "interpreter": {
          "hash": "95ab7303ed2746327945aa376054eddca8c4eca362915ff95db932dbe7e7ee41"
        }
      }
    }
  },
  "cells": [
    {
      "cell_type": "code",
      "metadata": {
        "id": "Uag4yBw10wOj"
      },
      "source": [
        "# !pip3 install -U yfinance"
      ],
      "execution_count": 6,
      "outputs": []
    },
    {
      "cell_type": "code",
      "metadata": {
        "id": "TgR2Pm-2BhET"
      },
      "source": [
        "import re\n",
        "import os\n",
        "import requests\n",
        "import pandas as pd\n",
        "import yfinance as yf\n",
        "from bs4 import BeautifulSoup as BS\n",
        "from pandas_datareader import data as pdr\n",
        "from datetime import datetime, timedelta, timezone"
      ],
      "execution_count": 7,
      "outputs": []
    },
    {
      "cell_type": "code",
      "metadata": {
        "id": "rCsNV0lcB8IG"
      },
      "source": [
        "class StockDataGen(object):\n",
        "    def __init__(self, candidates, days:int=180, save:bool=True):\n",
        "        self.candidates = candidates\n",
        "        self.days = days\n",
        "        self.save = save\n",
        "\n",
        "        if not os.path.exists('news'):\n",
        "            os.makedirs('news')\n",
        "        if not os.path.exists('stock'):\n",
        "            os.makedirs('stock')\n",
        "\n",
        "        yf.pdr_override()\n",
        "\n",
        "    def daily_stock_return(self, df):\n",
        "\n",
        "        def formula(t, t_1):\n",
        "            # print(t, t_1)\n",
        "            return 0 if t_1 == 0 else (t - t_1) / t_1\n",
        "\n",
        "        df.insert(df.shape[1], \"Daily Return\", 0)\n",
        "        # print(type(df), df.shape)\n",
        "\n",
        "        pre = 0\n",
        "\n",
        "        for idx, row in df.iterrows():\n",
        "            curr = row[\"Close\"]\n",
        "            df.loc[idx, \"Daily Return\"] = formula(curr, pre)\n",
        "            pre = curr\n",
        "\n",
        "        df = df.iloc[1:, :]\n",
        "        return df\n",
        "\n",
        "    def get_stock_price(self, query_words):\n",
        "        # recently X days\n",
        "        start_date = (datetime.now(tz=timezone.utc) - timedelta(self.days)).strftime(\"%Y-%m-%d\")\n",
        "        end_date = datetime.now().strftime(\"%Y-%m-%d\")\n",
        "\n",
        "        data = pdr.get_data_yahoo(query_words, start=start_date, end=end_date)\n",
        "        data = self.daily_stock_return(data)\n",
        "        ## for saving\n",
        "        if self.save:\n",
        "            data.to_csv(\n",
        "                \"stock/{}_{}_{}.csv\".format(query_words.upper(), start_date.replace(\"-\",\"\"), end_date.replace(\"-\",\"\"))\n",
        "            )\n",
        "        return data\n",
        "\n",
        "    def get_news(self, query):\n",
        "        timestamp = datetime.now().strftime(\"%Y%m%d\")\n",
        "        print(\"[{}] start collecting '{}'...\".format(timestamp, query))\n",
        "        datas = list()\n",
        "\n",
        "        page = 1\n",
        "        max_page = 1\n",
        "\n",
        "        ## nd -> days\n",
        "\n",
        "        while True:\n",
        "            url = (\n",
        "                'https://wallmine.com/screener/async?'\n",
        "                'd=d&'\n",
        "                'fo=s&'\n",
        "                'nd={}&'.format(self.days)+\n",
        "                'o=m&'\n",
        "                'page={}&'.format(page)+\n",
        "                'r=n&'\n",
        "                's={}&'.format(query)+\n",
        "                'symbols={}'.format(query)\n",
        "            )\n",
        "            req = requests.get(url)\n",
        "            html_text = req.text\n",
        "            bs = BS(html_text, 'html5lib')\n",
        "            rows = bs.findAll('tr', {'class': \"js-clickable-row clickable-row\"})\n",
        "\n",
        "            print(\"page: {}\".format(page))\n",
        "            for i in rows:\n",
        "                data_dict = dict()\n",
        "\n",
        "                title = i.findAll('a', {'target': \"_blank\"})[0].getText()\n",
        "                content = i.findAll('td', {'class': \"js-tooltip\"})[0]['title']\n",
        "                small = BS(content, 'html5lib')\n",
        "                tmp = small.findAll('time', {'class': \"timeago\"})[0]['title']\n",
        "                content = re.compile('<small>.*\\n<br />\\n').sub('', content.strip())\n",
        "\n",
        "                data_dict = {\"datetime\":tmp, \"title\":title, \"content\":content}\n",
        "                datas.append(data_dict)\n",
        "\n",
        "            page += 1\n",
        "            try:\n",
        "                # raise the error to make sure break the loop\n",
        "                bs.findAll('li', {'class': \"page-item\"})[-1].getText()\n",
        "            except IndexError as ie:\n",
        "                break\n",
        "\n",
        "        df = pd.DataFrame(datas)\n",
        "        df = df.sort_values(by=\"datetime\", ascending=True)\n",
        "        if self.save:\n",
        "            df.to_csv(\"news/{}_{}.csv\".format(query.upper(), timestamp), index=None)\n",
        "        return df\n",
        "\n",
        "    def data_gen(self):\n",
        "        for c in self.candidates:\n",
        "            self.get_news(c)\n",
        "            self.get_stock_price(c)\n"
      ],
      "execution_count": 8,
      "outputs": []
    },
    {
      "cell_type": "code",
      "metadata": {
        "id": "nk7oDlTMCN01"
      },
      "source": [
        "## only support stock code\n",
        "# candidates = ['ZM']\n",
        "candidates = [\n",
        "    'AAL', 'DAL'\n",
        "]\n",
        "days = 184\n",
        "save = True\n",
        "## instance StockDataGen object\n",
        "data_gen = StockDataGen(candidates, days, save)\n",
        "data_gen.data_gen()\n"
      ],
      "execution_count": 9,
      "outputs": [
        {
          "output_type": "stream",
          "name": "stdout",
          "text": [
            "[20201203] start collecting 'AAL'...\n",
            "page: 1\n",
            "page: 2\n",
            "page: 3\n",
            "page: 4\n",
            "[*********************100%***********************]  1 of 1 completed\n",
            "[20201203] start collecting 'DAL'...\n",
            "page: 1\n",
            "page: 2\n",
            "page: 3\n",
            "page: 4\n",
            "page: 5\n",
            "[*********************100%***********************]  1 of 1 completed\n"
          ]
        }
      ]
    },
    {
      "cell_type": "code",
      "execution_count": 10,
      "metadata": {},
      "outputs": [],
      "source": [
        "# ## testing for one\n",
        "# candidate = \"ZM\"\n",
        "# dg = StockDataGen(None, 180, True)\n",
        "# dg.get_stock_price(candidate)\n",
        "# dg.get_news(candidate)"
      ]
    },
    {
      "cell_type": "code",
      "execution_count": 11,
      "metadata": {},
      "outputs": [
        {
          "output_type": "stream",
          "name": "stdout",
          "text": [
            "done!\n"
          ]
        }
      ],
      "source": [
        "print('done!')"
      ]
    }
  ]
}